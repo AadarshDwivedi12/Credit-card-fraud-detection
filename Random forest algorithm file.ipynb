{
  "metadata": {
    "language_info": {
      "name": ""
    },
    "kernelspec": {
      "name": "python",
      "display_name": "Python (Pyodide)",
      "language": "python"
    }
  },
  "nbformat_minor": 4,
  "nbformat": 4,
  "cells": [
    {
      "cell_type": "code",
      "source": "import numpy as np\nimport pandas as pd\nimport matplotlib.pyplot as plt\nimport seaborn as sns\nfrom matplotlib import gridspec\n# Load the dataset from the csv file using pandas\n# best way is to mount the drive on colab and\n# copy the path for the csv file\ndata = pd.read_csv(\"credit.csv\")\n# Grab a peek at the data\ndata.head()\n# Print the shape of the data\n# data = data.sample(frac = 0.1, random_state = 48)\nprint(data.shape)\nprint(data.describe())\n# Determine number of fraud cases in dataset\nfraud = data[data['Class'] == 1]\nvalid = data[data['Class'] == 0]\noutlierFraction = len(fraud)/float(len(valid))\nprint(outlierFraction)\nprint('Fraud Cases: {}'.format(len(data[data['Class'] == 1])))\nprint('Valid Transactions: {}'.format(len(data[data['Class'] == 0])))\nprint('Amount details of the fraudulent transaction')\nfraud.Amount.describe()\nprint('details of valid transaction')\nvalid.Amount.describe()\n# Correlation matrix\ncorrmat = data.corr()\nfig = plt.figure(figsize = (12, 9))\nsns.heatmap(corrmat, vmax = .8, square = True)\nplt.show()\n# dividing the X and the Y from the dataset\nX = data.drop(['Class'], axis = 1)\nY = data[\"Class\"]\nprint(X.shape)\nprint(Y.shape)\n# getting just the values for the sake of processing\n# (its a numpy array with no columns)\nxData = X.values\nyData = Y.values\n# Using Scikit-learn to split data into training and testing sets\nfrom sklearn.model_selection import train_test_split\n# Split the data into training and testing sets\nxTrain, xTest, yTrain, yTest = train_test_split(\n\t\txData, yData, test_size = 0.2, random_state = 42)\n# Building the Random Forest Classifier (RANDOM FOREST)\nfrom sklearn.ensemble import RandomForestClassifier\n# random forest model creation\nrfc = RandomForestClassifier()\nrfc.fit(xTrain, yTrain)\n# predictions\nyPred = rfc.predict(xTest)\n# Evaluating the classifier\n# printing every score of the classifier\n# scoring in anything\nfrom sklearn.metrics import classification_report, accuracy_score\nfrom sklearn.metrics import precision_score, recall_score\nfrom sklearn.metrics import f1_score, matthews_corrcoef\nfrom sklearn.metrics import confusion_matrix\n\nn_outliers = len(fraud)\nn_errors = (yPred != yTest).sum()\nprint(\"The model used is Random Forest classifier\")\n\nacc = accuracy_score(yTest, yPred)\nprint(\"The accuracy is {}\".format(acc))\n\nprec = precision_score(yTest, yPred)\nprint(\"The precision is {}\".format(prec))\n\nrec = recall_score(yTest, yPred)\nprint(\"The recall is {}\".format(rec))\n\nf1 = f1_score(yTest, yPred)\nprint(\"The F1-Score is {}\".format(f1))\n\nMCC = matthews_corrcoef(yTest, yPred)\nprint(\"The Matthews correlation coefficient is{}\".format(MCC))\n# printing the confusion matrix\nLABELS = ['Normal', 'Fraud']\nconf_matrix = confusion_matrix(yTest, yPred)\nplt.figure(figsize =(12, 12))\nsns.heatmap(conf_matrix, xticklabels = LABELS,\n\t\t\tyticklabels = LABELS, annot = True, fmt =\"d\");\nplt.title(\"Confusion matrix\")\nplt.ylabel('True class')\nplt.xlabel('Predicted class')\nplt.show()\n",
      "metadata": {},
      "execution_count": null,
      "outputs": []
    }
  ]
}